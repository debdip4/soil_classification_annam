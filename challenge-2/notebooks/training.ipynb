'''
Soil vs Not-Soil Classification (Challenge 2)

Team Name: HelloWorld
Model Used: ResNet18 (reused from Challenge 1)
Final Score: F1 = 0.8908

Objective:
To classify test images as either soil (label = 1) or not-soil (label = 0),
without having any negative examples in the training set.

Approach:
- We reused the ResNet18 model trained during Challenge 1 for soil type classification.
- That model was trained to classify among:
  Red Soil, Black Soil, Alluvial Soil, Clay Soil

- For Challenge 2, we used the trained model in inference mode only.

Logic:
- For each test image, the model predicts class probabilities across the 4 soil types.
- If the highest softmax probability (confidence) > threshold (e.g., 0.90), we assign label = 1 (soil).
- Otherwise, we assign label = 0 (not-soil).

Outcome:
This confidence-based inference strategy achieved an F1 score of 0.8908
without requiring retraining or manual negative labeling.
See inference.ipynb for implementation.
'''

