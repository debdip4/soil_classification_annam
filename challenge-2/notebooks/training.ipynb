{
 "cells": [
  {
   "cell_type": "code",
   "execution_count": 1,
   "id": "5f06c6ab",
   "metadata": {},
   "outputs": [
    {
     "data": {
      "text/plain": [
       "'\\nSoil vs Not-Soil Classification (Challenge 2)\\n\\nTeam Name: HelloWorld\\nModel Used: ResNet18 (reused from Challenge 1)\\nFinal Score: F1 = 0.8908\\n\\nObjective:\\nTo classify test images as either soil (label = 1) or not-soil (label = 0),\\nwithout having any negative examples in the training set.\\n\\nApproach:\\n- We reused the ResNet18 model trained during Challenge 1 for soil type classification.\\n- That model was trained to classify among:\\n  Red Soil, Black Soil, Alluvial Soil, Clay Soil\\n\\n- For Challenge 2, we used the trained model in inference mode only.\\n\\nLogic:\\n- For each test image, the model predicts class probabilities across the 4 soil types.\\n- If the highest softmax probability (confidence) > threshold (e.g., 0.90), we assign label = 1 (soil).\\n- Otherwise, we assign label = 0 (not-soil).\\n\\nOutcome:\\nThis confidence-based inference strategy achieved an F1 score of 0.8908\\nwithout requiring retraining or manual negative labeling.\\nSee inference.ipynb for implementation.\\n'"
      ]
     },
     "execution_count": 1,
     "metadata": {},
     "output_type": "execute_result"
    }
   ],
   "source": [
    "'''\n",
    "Soil vs Not-Soil Classification (Challenge 2)\n",
    "\n",
    "Team Name: HelloWorld\n",
    "Model Used: ResNet18 (reused from Challenge 1)\n",
    "Final Score: F1 = 0.8908\n",
    "\n",
    "Objective:\n",
    "To classify test images as either soil (label = 1) or not-soil (label = 0),\n",
    "without having any negative examples in the training set.\n",
    "\n",
    "Approach:\n",
    "- We reused the ResNet18 model trained during Challenge 1 for soil type classification.\n",
    "- That model was trained to classify among:\n",
    "  Red Soil, Black Soil, Alluvial Soil, Clay Soil\n",
    "\n",
    "- For Challenge 2, we used the trained model in inference mode only.\n",
    "\n",
    "Logic:\n",
    "- For each test image, the model predicts class probabilities across the 4 soil types.\n",
    "- If the highest softmax probability (confidence) > threshold (e.g., 0.90), we assign label = 1 (soil).\n",
    "- Otherwise, we assign label = 0 (not-soil).\n",
    "\n",
    "Outcome:\n",
    "This confidence-based inference strategy achieved an F1 score of 0.8908\n",
    "without requiring retraining or manual negative labeling.\n",
    "See inference.ipynb for implementation.\n",
    "'''"
   ]
  },
  {
   "cell_type": "code",
   "execution_count": null,
   "id": "2bde9e03",
   "metadata": {},
   "outputs": [],
   "source": []
  }
 ],
 "metadata": {
  "kernelspec": {
   "display_name": "Python 3",
   "language": "python",
   "name": "python3"
  },
  "language_info": {
   "codemirror_mode": {
    "name": "ipython",
    "version": 3
   },
   "file_extension": ".py",
   "mimetype": "text/x-python",
   "name": "python",
   "nbconvert_exporter": "python",
   "pygments_lexer": "ipython3",
   "version": "3.13.3"
  }
 },
 "nbformat": 4,
 "nbformat_minor": 5
}
